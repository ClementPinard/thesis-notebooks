{
 "cells": [
  {
   "cell_type": "markdown",
   "metadata": {},
   "source": [
    "## Introducing Optimization for Perona Malik diffusion"
   ]
  },
  {
   "cell_type": "code",
   "execution_count": null,
   "metadata": {},
   "outputs": [],
   "source": [
    "from imageio import imread\n",
    "from skimage.transform import resize\n",
    "from cv2 import blur\n",
    "from matplotlib import pyplot as plt\n",
    "from matplotlib import animation, rc\n",
    "\n",
    "from IPython.display import HTML\n",
    "#%matplotlib notebook\n",
    "\n",
    "device = torch.device('cuda') if torch.cuda.is_available() else torch.device('cpu')\n",
    "h=200"
   ]
  },
  {
   "cell_type": "code",
   "execution_count": null,
   "metadata": {},
   "outputs": [],
   "source": [
    "from loss_functions import diffusion_loss, robust_diffusion_loss\n",
    "fig = plt.figure(figsize=(10,10))\n",
    "\n",
    "image = resize(imread('img/foreground.jpg'), (h, h))\n",
    "image_tensor = torch.from_numpy(image.transpose(2,0,1)).float().to(device)\n",
    "#image_tensor += torch.linspace(-0.5,0.5,h).view(1,1,h).float().cuda()\n",
    "image_plot = plt.imshow(image, animated=True)\n",
    "\n",
    "img_param = torch.nn.Parameter(image_tensor.clone().unsqueeze(0))\n",
    "#optimizer = torch.optim.Adam([img_param], lr=0.1)\n",
    "optimizer = torch.optim.SGD([img_param], lr=1, momentum=0)\n",
    "\n",
    "\n",
    "def animate(i):\n",
    "    for _ in range(1):\n",
    "        loss = 10000*robust_diffusion_loss(img_param, None, kappa=0.1, iterations=10, gamma=0.2, loss_function='MSE')\n",
    "        #loss = 10000*diffusion_loss(img_param, img_param, kappa=0.3)\n",
    "        optimizer.zero_grad()\n",
    "        loss.backward()\n",
    "        optimizer.step()\n",
    "    #image_tmp = blur(image, (1+2*i,1+2*i))\n",
    "    to_plot = img_param[0].detach().cpu().numpy().transpose(1,2,0).clip(0,1)\n",
    "    image_plot.set_array(to_plot)\n",
    "    return (image_plot,)\n",
    "\n",
    "ani = animation.FuncAnimation(fig, animate, interval=100, frames=30, blit=True)\n",
    "HTML(ani.to_html5_video())"
   ]
  },
  {
   "cell_type": "markdown",
   "metadata": {},
   "source": [
    "## Just for fun : PM diffusion of gradient\n",
    "\n",
    "You can try robust grad diffusion loss2 which is essentially diffusion of each gradient coordinate independently (and that results are very poor)"
   ]
  },
  {
   "cell_type": "code",
   "execution_count": null,
   "metadata": {},
   "outputs": [],
   "source": [
    "from imageio import imread\n",
    "from skimage.transform import resize\n",
    "from cv2 import blur\n",
    "from loss_functions import grad_diffusion_loss, robust_grad_diffusion_loss, robust_grad_diffusion_loss2\n",
    "fig = plt.figure(figsize=(10,10))\n",
    "image = resize(imread('img/foreground.jpg'), (h, h))\n",
    "image_tensor = torch.from_numpy(image.transpose(2,0,1)).float().to(device)\n",
    "#image_tensor += torch.linspace(-0.5,0.5,h).view(1,1,h).float().cuda()\n",
    "image_plot = plt.imshow(image, animated=True)\n",
    "\n",
    "img_param = torch.nn.Parameter(image_tensor.clone().unsqueeze(0))\n",
    "#optimizer = torch.optim.Adam([img_param], lr=0.01)\n",
    "optimizer = torch.optim.SGD([img_param], lr=1, momentum=0.9)\n",
    "\n",
    "def animate(i):\n",
    "    #loss = PM_smooth_loss(img_param, None, kappa=.100).sum()\n",
    "    for j in range(10):\n",
    "        #loss = 1000*grad_diffusion_loss(img_param, img_param, kappa=0.1)\n",
    "        loss = 100*robust_grad_diffusion_loss(img_param, img_param, kappa=0.1, iterations=10, gamma=0.2)\n",
    "        optimizer.zero_grad()\n",
    "        loss.backward()\n",
    "        optimizer.step()\n",
    "    #image_tmp = blur(image, (1+2*i,1+2*i))\n",
    "    to_plot = img_param[0].detach().cpu().numpy().transpose(1,2,0).clip(0,1)\n",
    "    image_plot.set_array(to_plot)\n",
    "    return (image_plot,)\n",
    "ani = animation.FuncAnimation(fig, animate, interval=100, frames=300, blit=True)\n",
    "HTML(ani.to_html5_video())\n",
    "#pt.show()"
   ]
  },
  {
   "cell_type": "code",
   "execution_count": null,
   "metadata": {},
   "outputs": [],
   "source": []
  }
 ],
 "metadata": {
  "kernelspec": {
   "display_name": "Python 3",
   "language": "python",
   "name": "python3"
  },
  "language_info": {
   "codemirror_mode": {
    "name": "ipython",
    "version": 3
   },
   "file_extension": ".py",
   "mimetype": "text/x-python",
   "name": "python",
   "nbconvert_exporter": "python",
   "pygments_lexer": "ipython3",
   "version": "3.7.1"
  }
 },
 "nbformat": 4,
 "nbformat_minor": 2
}

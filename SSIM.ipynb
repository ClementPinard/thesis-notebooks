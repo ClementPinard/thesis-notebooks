{
 "cells": [
  {
   "cell_type": "markdown",
   "metadata": {},
   "source": [
    "# SSIM Loss"
   ]
  },
  {
   "cell_type": "code",
   "execution_count": null,
   "metadata": {},
   "outputs": [],
   "source": [
    "import matplotlib.pyplot as plt\n",
    "from mpl_toolkits.mplot3d import Axes3D\n",
    "import numpy as np\n",
    "X1,X2 = np.meshgrid(*[np.linspace(-1,1,100)]*2)\n",
    "C1 = 0.01**2\n",
    "F = (2* X1 * X2 + C1)/(X1**2 + X2**2 + C1)\n",
    "%matplotlib notebook\n",
    "def _set_axis(ax,z=True):\n",
    "    ax.set_xlabel('X');ax.set_ylabel('Y')\n",
    "\n",
    "fig = plt.figure(num=1)\n",
    "ax = fig.add_subplot(111,projection='3d')\n",
    "\n",
    "SF = ax.plot_surface(X1,X2,F,cmap=\"jet\")\n",
    "_set_axis(ax)\n"
   ]
  },
  {
   "cell_type": "code",
   "execution_count": null,
   "metadata": {},
   "outputs": [],
   "source": [
    "fig,ax = plt.subplots(1,3,figsize=(10,4), dpi=100)\n",
    "obj = ax[0].contourf(X1,X2,F,35,cmap=\"jet\")\n",
    "ax[0].contour(X1,X2,F,35,linewidths =0.5 )\n",
    "ax[0].set_title(\"function $f$\")\n",
    "\n",
    "from mpl_toolkits.axes_grid1 import make_axes_locatable\n",
    "divider = make_axes_locatable(ax[0])\n",
    "cax = divider.append_axes(\"right\", size=\"5%\", pad=0.05)\n",
    "cbar = fig.colorbar(obj,cax=cax)\n",
    "\n",
    "_set_axis(ax[0],z=False)\n",
    "ax[0].set_aspect('equal')\n",
    "\n",
    "num = 60\n",
    "ax_ = plt.subplot2grid((1,3), (0,1), colspan=2)\n",
    "ax_.plot(X1[num], F[num])\n",
    "ax_.set_title(\"function $f_1 :x \\mapsto f(x,Y)$ for Y = {:.2f}\".format(X2[num][0]))\n",
    "ax_.set_xlabel(\"X\")\n",
    "plt.tight_layout()\n",
    "plt.show()"
   ]
  }
 ],
 "metadata": {
  "kernelspec": {
   "display_name": "Python 3",
   "language": "python",
   "name": "python3"
  },
  "language_info": {
   "codemirror_mode": {
    "name": "ipython",
    "version": 3
   },
   "file_extension": ".py",
   "mimetype": "text/x-python",
   "name": "python",
   "nbconvert_exporter": "python",
   "pygments_lexer": "ipython3",
   "version": "3.7.1"
  }
 },
 "nbformat": 4,
 "nbformat_minor": 2
}
